{
  "cells": [
    {
      "cell_type": "markdown",
      "metadata": {
        "id": "view-in-github",
        "colab_type": "text"
      },
      "source": [
        "<a href=\"https://colab.research.google.com/github/SohamVaidya12/Automated-Plant-Species-Identification-System/blob/main/Plant_A_speciesdetect_(1).ipynb\" target=\"_parent\"><img src=\"https://colab.research.google.com/assets/colab-badge.svg\" alt=\"Open In Colab\"/></a>"
      ]
    },
    {
      "cell_type": "code",
      "execution_count": null,
      "metadata": {
        "id": "mXiFSE6uOAQZ"
      },
      "outputs": [],
      "source": [
        "import tensorflow as tf\n",
        "from tensorflow.keras.preprocessing.image import ImageDataGenerator\n",
        "from tensorflow.keras.models import Sequential\n",
        "from tensorflow.keras.layers import Conv2D, MaxPooling2D, Flatten, Dense, Dropout\n",
        "from sklearn.model_selection import train_test_split\n",
        "from sklearn.model_selection import KFold\n",
        "import os\n"
      ]
    },
    {
      "cell_type": "code",
      "execution_count": null,
      "metadata": {
        "id": "hrTsVg5X9ED-",
        "colab": {
          "base_uri": "https://localhost:8080/"
        },
        "outputId": "9566a069-fdf8-43d2-dfd8-d57ebad6f407"
      },
      "outputs": [
        {
          "output_type": "stream",
          "name": "stdout",
          "text": [
            "Mounted at /content/drive\n"
          ]
        }
      ],
      "source": [
        "from google.colab import drive\n",
        "drive.mount('/content/drive')"
      ]
    },
    {
      "cell_type": "code",
      "execution_count": null,
      "metadata": {
        "id": "w-TRGduxOimG"
      },
      "outputs": [],
      "source": [
        "input_shape = (256, 256, 3)\n",
        "num_classes = 10"
      ]
    },
    {
      "cell_type": "code",
      "execution_count": null,
      "metadata": {
        "id": "3y63lbymZP3A"
      },
      "outputs": [],
      "source": [
        "batch_size = 32\n",
        "epochs = 150"
      ]
    },
    {
      "cell_type": "code",
      "execution_count": null,
      "metadata": {
        "colab": {
          "base_uri": "https://localhost:8080/"
        },
        "id": "7Z6Th5gjU6S0",
        "outputId": "2ee73ece-7c09-4cf0-c0c4-8c4ef50529b3"
      },
      "outputs": [
        {
          "output_type": "stream",
          "name": "stdout",
          "text": [
            "0 Charuka1\n",
            "1 Mangifera Indica\n",
            "2 Banbusa vulgaris\n",
            "3 Ficus Religiosa\n",
            "4 Crinam\n",
            "5 Jasminium sabac\n",
            "6 Plumeria\n",
            "7 Dracena\n",
            "8 american pie\n",
            "9 Singapoor desy4\n"
          ]
        }
      ],
      "source": [
        "data = []\n",
        "labels = []\n",
        "temp_label = []\n",
        "main_folder_path = '/content/drive/MyDrive/Plant species'\n",
        "for i, folder_name in enumerate(os.listdir(main_folder_path)):\n",
        "    folder_path = os.path.join(main_folder_path, folder_name)\n",
        "    temp_label.append([i,folder_name])\n",
        "    print(i,folder_name)\n",
        "    for img_name in os.listdir(folder_path):\n",
        "        #print(img_name)\n",
        "        img_path = os.path.join(folder_path, img_name)\n",
        "        img = tf.keras.preprocessing.image.load_img(\n",
        "            img_path, target_size=input_shape[:2])\n",
        "        img_arr = tf.keras.preprocessing.image.img_to_array(img)\n",
        "        data.append(img_arr)\n",
        "        labels.append(i)\n"
      ]
    },
    {
      "cell_type": "code",
      "execution_count": null,
      "metadata": {
        "colab": {
          "base_uri": "https://localhost:8080/"
        },
        "id": "yqBQUZeMDU6R",
        "outputId": "5f097509-91c6-4f38-aef7-72585ee281ac"
      },
      "outputs": [
        {
          "output_type": "execute_result",
          "data": {
            "text/plain": [
              "[[0, 'Charuka1'],\n",
              " [1, 'Mangifera Indica'],\n",
              " [2, 'Banbusa vulgaris'],\n",
              " [3, 'Ficus Religiosa'],\n",
              " [4, 'Crinam'],\n",
              " [5, 'Jasminium sabac'],\n",
              " [6, 'Plumeria'],\n",
              " [7, 'Dracena'],\n",
              " [8, 'american pie'],\n",
              " [9, 'Singapoor desy4']]"
            ]
          },
          "metadata": {},
          "execution_count": 7
        }
      ],
      "source": [
        "temp_label"
      ]
    },
    {
      "cell_type": "code",
      "execution_count": null,
      "metadata": {
        "id": "mH3ZZPNRXRS_"
      },
      "outputs": [],
      "source": [
        "train_data, val_data, train_labels, val_labels = train_test_split(\n",
        "    data, labels, test_size=0.2, random_state=42)\n"
      ]
    },
    {
      "cell_type": "code",
      "execution_count": null,
      "metadata": {
        "id": "FYZvj2pHYL3z"
      },
      "outputs": [],
      "source": [
        "import numpy as np"
      ]
    },
    {
      "cell_type": "code",
      "execution_count": null,
      "metadata": {
        "id": "8cGjMwVXXiEP"
      },
      "outputs": [],
      "source": [
        "train_data = tf.keras.utils.normalize(np.array(train_data), axis=1)\n",
        "val_data = tf.keras.utils.normalize(np.array(val_data), axis=1)\n"
      ]
    },
    {
      "cell_type": "code",
      "execution_count": null,
      "metadata": {
        "id": "WoSiI-3bYSES"
      },
      "outputs": [],
      "source": [
        "train_labels = tf.keras.utils.to_categorical(train_labels, num_classes)\n",
        "val_labels = tf.keras.utils.to_categorical(val_labels, num_classes)"
      ]
    },
    {
      "cell_type": "code",
      "execution_count": null,
      "metadata": {
        "id": "DV1gJZx1YSWN"
      },
      "outputs": [],
      "source": [
        "model = Sequential([\n",
        "    Conv2D(32, (3, 3), activation='relu', input_shape=input_shape),\n",
        "    MaxPooling2D((2, 2)),\n",
        "    Dropout(0.25),\n",
        "    Conv2D(64, (3, 3), activation='relu'),\n",
        "    MaxPooling2D((2, 2)),\n",
        "    Dropout(0.25),\n",
        "    Conv2D(128, (3, 3), activation='relu'),\n",
        "    MaxPooling2D((2, 2)),\n",
        "    Dropout(0.25),\n",
        "    Flatten(),\n",
        "    Dense(256, activation='relu'),\n",
        "    Dropout(0.5),\n",
        "    Dense(num_classes, activation='softmax')\n",
        "])"
      ]
    },
    {
      "cell_type": "code",
      "execution_count": null,
      "metadata": {
        "id": "L0GP4lxXYy5H"
      },
      "outputs": [],
      "source": [
        "model.compile(loss='categorical_crossentropy',\n",
        "              optimizer='adam', metrics=['accuracy'])"
      ]
    },
    {
      "cell_type": "code",
      "source": [
        "from keras.utils.vis_utils import plot_model\n",
        "plot_model(model, to_file='model_plot.png', show_shapes=True, show_layer_names=True)"
      ],
      "metadata": {
        "colab": {
          "base_uri": "https://localhost:8080/",
          "height": 1000
        },
        "id": "pi--RNKbBBZS",
        "outputId": "c3912d85-ba09-4d4f-efd5-ce36616d9aae"
      },
      "execution_count": null,
      "outputs": [
        {
          "output_type": "execute_result",
          "data": {
            "image/png": "[encoded data removed]",
            "text/plain": [
              "<IPython.core.display.Image object>"
            ]
          },
          "metadata": {},
          "execution_count": 14
        }
      ]
    },
    {
      "cell_type": "code",
      "execution_count": null,
      "metadata": {
        "colab": {
          "base_uri": "https://localhost:8080/"
        },
        "id": "6erK2EGKYy9-",
        "outputId": "d439e365-7770-41d6-9b06-2acd07ecb2da"
      },
      "outputs": [
        {
          "output_type": "stream",
          "name": "stdout",
          "text": [
            "Epoch 1/150\n",
            "7/7 [==============================] - 16s 412ms/step - loss: 2.5225 - accuracy: 0.1142 - val_loss: 2.2984 - val_accuracy: 0.3455\n",
            "Epoch 2/150\n",
            "7/7 [==============================] - 1s 130ms/step - loss: 2.2570 - accuracy: 0.2009 - val_loss: 2.2427 - val_accuracy: 0.1455\n",
            "Epoch 3/150\n",
            "7/7 [==============================] - 1s 126ms/step - loss: 2.0501 - accuracy: 0.3151 - val_loss: 1.9580 - val_accuracy: 0.5273\n",
            "Epoch 4/150\n",
            "7/7 [==============================] - 1s 126ms/step - loss: 1.6474 - accuracy: 0.4977 - val_loss: 1.3096 - val_accuracy: 0.8364\n",
            "Epoch 5/150\n",
            "7/7 [==============================] - 1s 127ms/step - loss: 0.9338 - accuracy: 0.7123 - val_loss: 0.7623 - val_accuracy: 0.8727\n",
            "Epoch 6/150\n",
            "7/7 [==============================] - 1s 142ms/step - loss: 0.7502 - accuracy: 0.7854 - val_loss: 0.5525 - val_accuracy: 0.8545\n",
            "Epoch 7/150\n",
            "7/7 [==============================] - 1s 130ms/step - loss: 0.4703 - accuracy: 0.8539 - val_loss: 0.4477 - val_accuracy: 0.8545\n",
            "Epoch 8/150\n",
            "7/7 [==============================] - 1s 127ms/step - loss: 0.3877 - accuracy: 0.8995 - val_loss: 0.3927 - val_accuracy: 0.8909\n",
            "Epoch 9/150\n",
            "7/7 [==============================] - 1s 145ms/step - loss: 0.1869 - accuracy: 0.9589 - val_loss: 0.2795 - val_accuracy: 0.9091\n",
            "Epoch 10/150\n",
            "7/7 [==============================] - 1s 138ms/step - loss: 0.1201 - accuracy: 0.9635 - val_loss: 0.4357 - val_accuracy: 0.8909\n",
            "Epoch 11/150\n",
            "7/7 [==============================] - 1s 136ms/step - loss: 0.1249 - accuracy: 0.9406 - val_loss: 0.3555 - val_accuracy: 0.8909\n",
            "Epoch 12/150\n",
            "7/7 [==============================] - 1s 138ms/step - loss: 0.0916 - accuracy: 0.9726 - val_loss: 0.3336 - val_accuracy: 0.8909\n",
            "Epoch 13/150\n",
            "7/7 [==============================] - 1s 134ms/step - loss: 0.1532 - accuracy: 0.9498 - val_loss: 0.3496 - val_accuracy: 0.9091\n",
            "Epoch 14/150\n",
            "7/7 [==============================] - 1s 129ms/step - loss: 0.0584 - accuracy: 0.9863 - val_loss: 0.2583 - val_accuracy: 0.9455\n",
            "Epoch 15/150\n",
            "7/7 [==============================] - 1s 127ms/step - loss: 0.0532 - accuracy: 0.9817 - val_loss: 0.2471 - val_accuracy: 0.9455\n",
            "Epoch 16/150\n",
            "7/7 [==============================] - 1s 128ms/step - loss: 0.0319 - accuracy: 0.9863 - val_loss: 0.2537 - val_accuracy: 0.9455\n",
            "Epoch 17/150\n",
            "7/7 [==============================] - 1s 127ms/step - loss: 0.0386 - accuracy: 0.9909 - val_loss: 0.3049 - val_accuracy: 0.9455\n",
            "Epoch 18/150\n",
            "7/7 [==============================] - 1s 128ms/step - loss: 0.0247 - accuracy: 0.9909 - val_loss: 0.3613 - val_accuracy: 0.9273\n",
            "Epoch 19/150\n",
            "7/7 [==============================] - 1s 126ms/step - loss: 0.0217 - accuracy: 0.9954 - val_loss: 0.3965 - val_accuracy: 0.9455\n",
            "Epoch 20/150\n",
            "7/7 [==============================] - 1s 127ms/step - loss: 0.0280 - accuracy: 0.9909 - val_loss: 0.3429 - val_accuracy: 0.9455\n",
            "Epoch 21/150\n",
            "7/7 [==============================] - 1s 127ms/step - loss: 0.0206 - accuracy: 0.9909 - val_loss: 0.3433 - val_accuracy: 0.9455\n",
            "Epoch 22/150\n",
            "7/7 [==============================] - 1s 130ms/step - loss: 0.0089 - accuracy: 1.0000 - val_loss: 0.3727 - val_accuracy: 0.9091\n",
            "Epoch 23/150\n",
            "7/7 [==============================] - 1s 127ms/step - loss: 0.0070 - accuracy: 1.0000 - val_loss: 0.4141 - val_accuracy: 0.9091\n",
            "Epoch 24/150\n",
            "7/7 [==============================] - 1s 133ms/step - loss: 0.0227 - accuracy: 0.9909 - val_loss: 0.4527 - val_accuracy: 0.9273\n",
            "Epoch 25/150\n",
            "7/7 [==============================] - 1s 137ms/step - loss: 0.0071 - accuracy: 1.0000 - val_loss: 0.4082 - val_accuracy: 0.9273\n",
            "Epoch 26/150\n",
            "7/7 [==============================] - 1s 138ms/step - loss: 0.0111 - accuracy: 0.9954 - val_loss: 0.3802 - val_accuracy: 0.9091\n",
            "Epoch 27/150\n",
            "7/7 [==============================] - 1s 139ms/step - loss: 0.0039 - accuracy: 1.0000 - val_loss: 0.3744 - val_accuracy: 0.9091\n",
            "Epoch 28/150\n",
            "7/7 [==============================] - 1s 132ms/step - loss: 0.0119 - accuracy: 0.9954 - val_loss: 0.3958 - val_accuracy: 0.9273\n",
            "Epoch 29/150\n",
            "7/7 [==============================] - 1s 129ms/step - loss: 0.0044 - accuracy: 1.0000 - val_loss: 0.4190 - val_accuracy: 0.9091\n",
            "Epoch 30/150\n",
            "7/7 [==============================] - 1s 130ms/step - loss: 0.0323 - accuracy: 0.9954 - val_loss: 0.3335 - val_accuracy: 0.9273\n",
            "Epoch 31/150\n",
            "7/7 [==============================] - 1s 127ms/step - loss: 0.0082 - accuracy: 1.0000 - val_loss: 0.3723 - val_accuracy: 0.9091\n",
            "Epoch 32/150\n",
            "7/7 [==============================] - 1s 129ms/step - loss: 0.0177 - accuracy: 0.9954 - val_loss: 0.4507 - val_accuracy: 0.9091\n",
            "Epoch 33/150\n",
            "7/7 [==============================] - 1s 126ms/step - loss: 0.0158 - accuracy: 0.9909 - val_loss: 0.5311 - val_accuracy: 0.9091\n",
            "Epoch 34/150\n",
            "7/7 [==============================] - 1s 130ms/step - loss: 0.0068 - accuracy: 1.0000 - val_loss: 0.5154 - val_accuracy: 0.9273\n",
            "Epoch 35/150\n",
            "7/7 [==============================] - 1s 130ms/step - loss: 0.0226 - accuracy: 0.9863 - val_loss: 0.4244 - val_accuracy: 0.9273\n",
            "Epoch 36/150\n",
            "7/7 [==============================] - 1s 127ms/step - loss: 0.0062 - accuracy: 1.0000 - val_loss: 0.3901 - val_accuracy: 0.9273\n",
            "Epoch 37/150\n",
            "7/7 [==============================] - 1s 127ms/step - loss: 0.0130 - accuracy: 0.9954 - val_loss: 0.4006 - val_accuracy: 0.9273\n",
            "Epoch 38/150\n",
            "7/7 [==============================] - 1s 127ms/step - loss: 0.0086 - accuracy: 0.9954 - val_loss: 0.4894 - val_accuracy: 0.9273\n",
            "Epoch 39/150\n",
            "7/7 [==============================] - 1s 130ms/step - loss: 0.0096 - accuracy: 1.0000 - val_loss: 0.5091 - val_accuracy: 0.9273\n",
            "Epoch 40/150\n",
            "7/7 [==============================] - 1s 136ms/step - loss: 0.0072 - accuracy: 0.9954 - val_loss: 0.5122 - val_accuracy: 0.9455\n",
            "Epoch 41/150\n",
            "7/7 [==============================] - 1s 137ms/step - loss: 0.0099 - accuracy: 0.9954 - val_loss: 0.5092 - val_accuracy: 0.9455\n",
            "Epoch 42/150\n",
            "7/7 [==============================] - 1s 141ms/step - loss: 0.0040 - accuracy: 1.0000 - val_loss: 0.5069 - val_accuracy: 0.9455\n",
            "Epoch 43/150\n",
            "7/7 [==============================] - 1s 138ms/step - loss: 0.0056 - accuracy: 0.9954 - val_loss: 0.5407 - val_accuracy: 0.9091\n",
            "Epoch 44/150\n",
            "7/7 [==============================] - 1s 131ms/step - loss: 0.0050 - accuracy: 1.0000 - val_loss: 0.5226 - val_accuracy: 0.9091\n",
            "Epoch 45/150\n",
            "7/7 [==============================] - 1s 127ms/step - loss: 0.0010 - accuracy: 1.0000 - val_loss: 0.5145 - val_accuracy: 0.9091\n",
            "Epoch 46/150\n",
            "7/7 [==============================] - 1s 129ms/step - loss: 0.0103 - accuracy: 0.9954 - val_loss: 0.4614 - val_accuracy: 0.9273\n",
            "Epoch 47/150\n",
            "7/7 [==============================] - 1s 132ms/step - loss: 0.0011 - accuracy: 1.0000 - val_loss: 0.4451 - val_accuracy: 0.9273\n",
            "Epoch 48/150\n",
            "7/7 [==============================] - 1s 129ms/step - loss: 0.0066 - accuracy: 1.0000 - val_loss: 0.4657 - val_accuracy: 0.9273\n",
            "Epoch 49/150\n",
            "7/7 [==============================] - 1s 131ms/step - loss: 0.0038 - accuracy: 1.0000 - val_loss: 0.5220 - val_accuracy: 0.9455\n",
            "Epoch 50/150\n",
            "7/7 [==============================] - 1s 127ms/step - loss: 0.0127 - accuracy: 0.9954 - val_loss: 0.5573 - val_accuracy: 0.9455\n",
            "Epoch 51/150\n",
            "7/7 [==============================] - 1s 129ms/step - loss: 0.0023 - accuracy: 1.0000 - val_loss: 0.5841 - val_accuracy: 0.9455\n",
            "Epoch 52/150\n",
            "7/7 [==============================] - 1s 128ms/step - loss: 0.0021 - accuracy: 1.0000 - val_loss: 0.5768 - val_accuracy: 0.9455\n",
            "Epoch 53/150\n",
            "7/7 [==============================] - 1s 130ms/step - loss: 0.0014 - accuracy: 1.0000 - val_loss: 0.5599 - val_accuracy: 0.9273\n",
            "Epoch 54/150\n",
            "7/7 [==============================] - 1s 130ms/step - loss: 0.0038 - accuracy: 0.9954 - val_loss: 0.5617 - val_accuracy: 0.9273\n",
            "Epoch 55/150\n",
            "7/7 [==============================] - 1s 138ms/step - loss: 5.7251e-04 - accuracy: 1.0000 - val_loss: 0.5602 - val_accuracy: 0.9091\n",
            "Epoch 56/150\n",
            "7/7 [==============================] - 1s 139ms/step - loss: 0.0023 - accuracy: 1.0000 - val_loss: 0.5770 - val_accuracy: 0.9091\n",
            "Epoch 57/150\n",
            "7/7 [==============================] - 1s 141ms/step - loss: 0.0101 - accuracy: 0.9954 - val_loss: 0.6088 - val_accuracy: 0.9091\n",
            "Epoch 58/150\n",
            "7/7 [==============================] - 1s 137ms/step - loss: 2.5826e-04 - accuracy: 1.0000 - val_loss: 0.6462 - val_accuracy: 0.9273\n",
            "Epoch 59/150\n",
            "7/7 [==============================] - 1s 130ms/step - loss: 6.1249e-04 - accuracy: 1.0000 - val_loss: 0.6516 - val_accuracy: 0.9273\n",
            "Epoch 60/150\n",
            "7/7 [==============================] - 1s 132ms/step - loss: 0.0159 - accuracy: 0.9954 - val_loss: 0.5762 - val_accuracy: 0.9273\n",
            "Epoch 61/150\n",
            "7/7 [==============================] - 1s 129ms/step - loss: 0.0157 - accuracy: 0.9909 - val_loss: 0.5646 - val_accuracy: 0.9273\n",
            "Epoch 62/150\n",
            "7/7 [==============================] - 1s 133ms/step - loss: 0.0044 - accuracy: 1.0000 - val_loss: 0.6109 - val_accuracy: 0.9091\n",
            "Epoch 63/150\n",
            "7/7 [==============================] - 1s 128ms/step - loss: 0.0085 - accuracy: 0.9954 - val_loss: 0.5871 - val_accuracy: 0.9273\n",
            "Epoch 64/150\n",
            "7/7 [==============================] - 1s 128ms/step - loss: 0.0178 - accuracy: 0.9954 - val_loss: 0.5407 - val_accuracy: 0.9273\n",
            "Epoch 65/150\n",
            "7/7 [==============================] - 1s 127ms/step - loss: 0.0114 - accuracy: 0.9954 - val_loss: 0.5567 - val_accuracy: 0.9091\n",
            "Epoch 66/150\n",
            "7/7 [==============================] - 1s 130ms/step - loss: 0.0132 - accuracy: 0.9954 - val_loss: 0.5088 - val_accuracy: 0.9091\n",
            "Epoch 67/150\n",
            "7/7 [==============================] - 1s 128ms/step - loss: 0.0305 - accuracy: 0.9909 - val_loss: 0.5316 - val_accuracy: 0.9091\n",
            "Epoch 68/150\n",
            "7/7 [==============================] - 1s 126ms/step - loss: 0.0417 - accuracy: 0.9863 - val_loss: 0.4956 - val_accuracy: 0.9091\n",
            "Epoch 69/150\n",
            "7/7 [==============================] - 1s 129ms/step - loss: 0.0142 - accuracy: 0.9954 - val_loss: 0.5080 - val_accuracy: 0.9091\n",
            "Epoch 70/150\n",
            "7/7 [==============================] - 1s 137ms/step - loss: 0.0100 - accuracy: 1.0000 - val_loss: 0.5568 - val_accuracy: 0.9091\n",
            "Epoch 71/150\n",
            "7/7 [==============================] - 1s 135ms/step - loss: 0.0042 - accuracy: 1.0000 - val_loss: 0.5552 - val_accuracy: 0.9273\n",
            "Epoch 72/150\n",
            "7/7 [==============================] - 1s 141ms/step - loss: 0.0085 - accuracy: 1.0000 - val_loss: 0.5642 - val_accuracy: 0.9273\n",
            "Epoch 73/150\n",
            "7/7 [==============================] - 1s 139ms/step - loss: 0.0039 - accuracy: 1.0000 - val_loss: 0.5261 - val_accuracy: 0.9273\n",
            "Epoch 74/150\n",
            "7/7 [==============================] - 1s 130ms/step - loss: 0.0122 - accuracy: 0.9954 - val_loss: 0.5436 - val_accuracy: 0.9091\n",
            "Epoch 75/150\n",
            "7/7 [==============================] - 1s 130ms/step - loss: 0.0036 - accuracy: 1.0000 - val_loss: 0.6178 - val_accuracy: 0.9091\n",
            "Epoch 76/150\n",
            "7/7 [==============================] - 1s 132ms/step - loss: 0.0059 - accuracy: 1.0000 - val_loss: 0.6325 - val_accuracy: 0.9273\n",
            "Epoch 77/150\n",
            "7/7 [==============================] - 1s 130ms/step - loss: 0.0287 - accuracy: 0.9954 - val_loss: 0.6046 - val_accuracy: 0.9273\n",
            "Epoch 78/150\n",
            "7/7 [==============================] - 1s 129ms/step - loss: 0.0020 - accuracy: 1.0000 - val_loss: 0.5083 - val_accuracy: 0.9455\n",
            "Epoch 79/150\n",
            "7/7 [==============================] - 1s 129ms/step - loss: 0.0030 - accuracy: 1.0000 - val_loss: 0.4773 - val_accuracy: 0.9455\n",
            "Epoch 80/150\n",
            "7/7 [==============================] - 1s 131ms/step - loss: 0.0051 - accuracy: 0.9954 - val_loss: 0.4532 - val_accuracy: 0.9455\n",
            "Epoch 81/150\n",
            "7/7 [==============================] - 1s 127ms/step - loss: 0.0030 - accuracy: 1.0000 - val_loss: 0.4500 - val_accuracy: 0.9273\n",
            "Epoch 82/150\n",
            "7/7 [==============================] - 1s 126ms/step - loss: 0.0039 - accuracy: 1.0000 - val_loss: 0.4579 - val_accuracy: 0.9091\n",
            "Epoch 83/150\n",
            "7/7 [==============================] - 1s 128ms/step - loss: 0.0015 - accuracy: 1.0000 - val_loss: 0.4785 - val_accuracy: 0.9091\n",
            "Epoch 84/150\n",
            "7/7 [==============================] - 1s 128ms/step - loss: 0.0011 - accuracy: 1.0000 - val_loss: 0.4651 - val_accuracy: 0.9273\n",
            "Epoch 85/150\n",
            "7/7 [==============================] - 1s 137ms/step - loss: 0.0055 - accuracy: 1.0000 - val_loss: 0.4864 - val_accuracy: 0.9273\n",
            "Epoch 86/150\n",
            "7/7 [==============================] - 1s 140ms/step - loss: 0.0124 - accuracy: 0.9954 - val_loss: 0.5439 - val_accuracy: 0.9455\n",
            "Epoch 87/150\n",
            "7/7 [==============================] - 1s 137ms/step - loss: 0.0056 - accuracy: 0.9954 - val_loss: 0.6211 - val_accuracy: 0.9455\n",
            "Epoch 88/150\n",
            "7/7 [==============================] - 1s 138ms/step - loss: 0.0025 - accuracy: 1.0000 - val_loss: 0.7762 - val_accuracy: 0.9273\n",
            "Epoch 89/150\n",
            "7/7 [==============================] - 1s 129ms/step - loss: 0.0045 - accuracy: 0.9954 - val_loss: 0.8821 - val_accuracy: 0.9091\n",
            "Epoch 90/150\n",
            "7/7 [==============================] - 1s 127ms/step - loss: 0.0130 - accuracy: 0.9909 - val_loss: 0.7229 - val_accuracy: 0.9273\n",
            "Epoch 91/150\n",
            "7/7 [==============================] - 1s 127ms/step - loss: 0.0250 - accuracy: 0.9909 - val_loss: 0.6313 - val_accuracy: 0.9273\n",
            "Epoch 92/150\n",
            "7/7 [==============================] - 1s 126ms/step - loss: 0.0020 - accuracy: 1.0000 - val_loss: 0.4775 - val_accuracy: 0.9091\n",
            "Epoch 93/150\n",
            "7/7 [==============================] - 1s 131ms/step - loss: 0.0124 - accuracy: 0.9954 - val_loss: 0.5198 - val_accuracy: 0.9091\n",
            "Epoch 94/150\n",
            "7/7 [==============================] - 1s 129ms/step - loss: 0.0055 - accuracy: 1.0000 - val_loss: 0.5819 - val_accuracy: 0.9091\n",
            "Epoch 95/150\n",
            "7/7 [==============================] - 1s 126ms/step - loss: 0.0051 - accuracy: 1.0000 - val_loss: 0.5378 - val_accuracy: 0.9091\n",
            "Epoch 96/150\n",
            "7/7 [==============================] - 1s 128ms/step - loss: 0.0014 - accuracy: 1.0000 - val_loss: 0.5579 - val_accuracy: 0.9091\n",
            "Epoch 97/150\n",
            "7/7 [==============================] - 1s 127ms/step - loss: 0.0067 - accuracy: 1.0000 - val_loss: 0.5308 - val_accuracy: 0.9273\n",
            "Epoch 98/150\n",
            "7/7 [==============================] - 1s 126ms/step - loss: 0.0039 - accuracy: 1.0000 - val_loss: 0.5358 - val_accuracy: 0.9273\n",
            "Epoch 99/150\n",
            "7/7 [==============================] - 1s 130ms/step - loss: 1.3713e-04 - accuracy: 1.0000 - val_loss: 0.6103 - val_accuracy: 0.9273\n",
            "Epoch 100/150\n",
            "7/7 [==============================] - 1s 134ms/step - loss: 0.0012 - accuracy: 1.0000 - val_loss: 0.6658 - val_accuracy: 0.9273\n",
            "Epoch 101/150\n",
            "7/7 [==============================] - 1s 140ms/step - loss: 6.6605e-04 - accuracy: 1.0000 - val_loss: 0.7164 - val_accuracy: 0.9273\n",
            "Epoch 102/150\n",
            "7/7 [==============================] - 1s 142ms/step - loss: 2.0358e-04 - accuracy: 1.0000 - val_loss: 0.7371 - val_accuracy: 0.9273\n",
            "Epoch 103/150\n",
            "7/7 [==============================] - 1s 137ms/step - loss: 2.6413e-04 - accuracy: 1.0000 - val_loss: 0.7294 - val_accuracy: 0.9273\n",
            "Epoch 104/150\n",
            "7/7 [==============================] - 1s 130ms/step - loss: 0.0190 - accuracy: 0.9954 - val_loss: 0.6160 - val_accuracy: 0.9273\n",
            "Epoch 105/150\n",
            "7/7 [==============================] - 1s 130ms/step - loss: 0.0178 - accuracy: 0.9954 - val_loss: 0.5769 - val_accuracy: 0.9091\n",
            "Epoch 106/150\n",
            "7/7 [==============================] - 1s 130ms/step - loss: 0.0111 - accuracy: 0.9954 - val_loss: 0.5732 - val_accuracy: 0.9455\n",
            "Epoch 107/150\n",
            "7/7 [==============================] - 1s 130ms/step - loss: 0.0054 - accuracy: 0.9954 - val_loss: 0.7154 - val_accuracy: 0.9091\n",
            "Epoch 108/150\n",
            "7/7 [==============================] - 1s 131ms/step - loss: 0.0016 - accuracy: 1.0000 - val_loss: 0.7934 - val_accuracy: 0.9091\n",
            "Epoch 109/150\n",
            "7/7 [==============================] - 1s 128ms/step - loss: 0.0058 - accuracy: 1.0000 - val_loss: 0.5939 - val_accuracy: 0.9273\n",
            "Epoch 110/150\n",
            "7/7 [==============================] - 1s 130ms/step - loss: 0.0142 - accuracy: 0.9954 - val_loss: 0.6036 - val_accuracy: 0.9091\n",
            "Epoch 111/150\n",
            "7/7 [==============================] - 1s 130ms/step - loss: 0.0062 - accuracy: 1.0000 - val_loss: 0.6354 - val_accuracy: 0.9091\n",
            "Epoch 112/150\n",
            "7/7 [==============================] - 1s 125ms/step - loss: 0.0042 - accuracy: 1.0000 - val_loss: 0.6711 - val_accuracy: 0.9091\n",
            "Epoch 113/150\n",
            "7/7 [==============================] - 1s 126ms/step - loss: 0.0050 - accuracy: 1.0000 - val_loss: 0.5948 - val_accuracy: 0.9273\n",
            "Epoch 114/150\n",
            "7/7 [==============================] - 1s 129ms/step - loss: 0.0124 - accuracy: 0.9909 - val_loss: 0.6186 - val_accuracy: 0.9455\n",
            "Epoch 115/150\n",
            "7/7 [==============================] - 1s 149ms/step - loss: 0.0086 - accuracy: 0.9954 - val_loss: 0.6119 - val_accuracy: 0.9455\n",
            "Epoch 116/150\n",
            "7/7 [==============================] - 1s 137ms/step - loss: 0.0023 - accuracy: 1.0000 - val_loss: 0.6335 - val_accuracy: 0.9273\n",
            "Epoch 117/150\n",
            "7/7 [==============================] - 1s 137ms/step - loss: 0.0012 - accuracy: 1.0000 - val_loss: 0.6383 - val_accuracy: 0.9273\n",
            "Epoch 118/150\n",
            "7/7 [==============================] - 1s 141ms/step - loss: 0.0061 - accuracy: 0.9954 - val_loss: 0.6498 - val_accuracy: 0.9455\n",
            "Epoch 119/150\n",
            "7/7 [==============================] - 1s 130ms/step - loss: 0.0153 - accuracy: 0.9954 - val_loss: 0.5778 - val_accuracy: 0.9455\n",
            "Epoch 120/150\n",
            "7/7 [==============================] - 1s 131ms/step - loss: 0.0088 - accuracy: 1.0000 - val_loss: 0.7104 - val_accuracy: 0.9091\n",
            "Epoch 121/150\n",
            "7/7 [==============================] - 1s 131ms/step - loss: 0.0098 - accuracy: 1.0000 - val_loss: 0.7809 - val_accuracy: 0.9091\n",
            "Epoch 122/150\n",
            "7/7 [==============================] - 1s 126ms/step - loss: 6.5419e-04 - accuracy: 1.0000 - val_loss: 0.8874 - val_accuracy: 0.9091\n",
            "Epoch 123/150\n",
            "7/7 [==============================] - 1s 130ms/step - loss: 0.0222 - accuracy: 0.9909 - val_loss: 0.9916 - val_accuracy: 0.9091\n",
            "Epoch 124/150\n",
            "7/7 [==============================] - 1s 130ms/step - loss: 0.0140 - accuracy: 0.9909 - val_loss: 0.7823 - val_accuracy: 0.9455\n",
            "Epoch 125/150\n",
            "7/7 [==============================] - 1s 129ms/step - loss: 0.0135 - accuracy: 0.9954 - val_loss: 0.8253 - val_accuracy: 0.9273\n",
            "Epoch 126/150\n",
            "7/7 [==============================] - 1s 128ms/step - loss: 0.0074 - accuracy: 1.0000 - val_loss: 0.6769 - val_accuracy: 0.9455\n",
            "Epoch 127/150\n",
            "7/7 [==============================] - 1s 127ms/step - loss: 0.0020 - accuracy: 1.0000 - val_loss: 0.7919 - val_accuracy: 0.9091\n",
            "Epoch 128/150\n",
            "7/7 [==============================] - 1s 128ms/step - loss: 0.0157 - accuracy: 0.9909 - val_loss: 0.7336 - val_accuracy: 0.9091\n",
            "Epoch 129/150\n",
            "7/7 [==============================] - 1s 128ms/step - loss: 0.0116 - accuracy: 0.9954 - val_loss: 0.7627 - val_accuracy: 0.9091\n",
            "Epoch 130/150\n",
            "7/7 [==============================] - 1s 132ms/step - loss: 0.0027 - accuracy: 1.0000 - val_loss: 0.7848 - val_accuracy: 0.8909\n",
            "Epoch 131/150\n",
            "7/7 [==============================] - 1s 137ms/step - loss: 0.0101 - accuracy: 0.9954 - val_loss: 0.7118 - val_accuracy: 0.9091\n",
            "Epoch 132/150\n",
            "7/7 [==============================] - 1s 138ms/step - loss: 0.0068 - accuracy: 0.9954 - val_loss: 0.6856 - val_accuracy: 0.9091\n",
            "Epoch 133/150\n",
            "7/7 [==============================] - 1s 139ms/step - loss: 0.0048 - accuracy: 0.9954 - val_loss: 0.6530 - val_accuracy: 0.9091\n",
            "Epoch 134/150\n",
            "7/7 [==============================] - 1s 136ms/step - loss: 0.0059 - accuracy: 1.0000 - val_loss: 0.5799 - val_accuracy: 0.9091\n",
            "Epoch 135/150\n",
            "7/7 [==============================] - 1s 130ms/step - loss: 0.0033 - accuracy: 1.0000 - val_loss: 0.5327 - val_accuracy: 0.9091\n",
            "Epoch 136/150\n",
            "7/7 [==============================] - 1s 129ms/step - loss: 0.0202 - accuracy: 0.9954 - val_loss: 0.4228 - val_accuracy: 0.9273\n",
            "Epoch 137/150\n",
            "7/7 [==============================] - 1s 126ms/step - loss: 0.0023 - accuracy: 1.0000 - val_loss: 0.4174 - val_accuracy: 0.9455\n",
            "Epoch 138/150\n",
            "7/7 [==============================] - 1s 130ms/step - loss: 4.5029e-04 - accuracy: 1.0000 - val_loss: 0.4320 - val_accuracy: 0.9455\n",
            "Epoch 139/150\n",
            "7/7 [==============================] - 1s 128ms/step - loss: 0.0018 - accuracy: 1.0000 - val_loss: 0.4560 - val_accuracy: 0.9455\n",
            "Epoch 140/150\n",
            "7/7 [==============================] - 1s 129ms/step - loss: 0.0035 - accuracy: 1.0000 - val_loss: 0.5022 - val_accuracy: 0.9455\n",
            "Epoch 141/150\n",
            "7/7 [==============================] - 1s 127ms/step - loss: 5.2873e-04 - accuracy: 1.0000 - val_loss: 0.5427 - val_accuracy: 0.9455\n",
            "Epoch 142/150\n",
            "7/7 [==============================] - 1s 127ms/step - loss: 2.3995e-04 - accuracy: 1.0000 - val_loss: 0.5740 - val_accuracy: 0.9455\n",
            "Epoch 143/150\n",
            "7/7 [==============================] - 1s 132ms/step - loss: 0.0013 - accuracy: 1.0000 - val_loss: 0.5923 - val_accuracy: 0.9455\n",
            "Epoch 144/150\n",
            "7/7 [==============================] - 1s 128ms/step - loss: 1.4451e-04 - accuracy: 1.0000 - val_loss: 0.6071 - val_accuracy: 0.9455\n",
            "Epoch 145/150\n",
            "7/7 [==============================] - 1s 127ms/step - loss: 2.2136e-04 - accuracy: 1.0000 - val_loss: 0.6218 - val_accuracy: 0.9455\n",
            "Epoch 146/150\n",
            "7/7 [==============================] - 1s 132ms/step - loss: 1.4842e-04 - accuracy: 1.0000 - val_loss: 0.6318 - val_accuracy: 0.9455\n",
            "Epoch 147/150\n",
            "7/7 [==============================] - 1s 138ms/step - loss: 0.0036 - accuracy: 0.9954 - val_loss: 0.6343 - val_accuracy: 0.9455\n",
            "Epoch 148/150\n",
            "7/7 [==============================] - 1s 134ms/step - loss: 3.1058e-04 - accuracy: 1.0000 - val_loss: 0.6986 - val_accuracy: 0.9091\n",
            "Epoch 149/150\n",
            "7/7 [==============================] - 1s 135ms/step - loss: 5.3415e-04 - accuracy: 1.0000 - val_loss: 0.7238 - val_accuracy: 0.9091\n",
            "Epoch 150/150\n",
            "7/7 [==============================] - 1s 133ms/step - loss: 0.0025 - accuracy: 1.0000 - val_loss: 0.7034 - val_accuracy: 0.9091\n"
          ]
        }
      ],
      "source": [
        "history = model.fit(\n",
        "    train_data,\n",
        "    train_labels,\n",
        "    validation_data=(val_data, val_labels),\n",
        "    batch_size=batch_size,\n",
        "    epochs=epochs)"
      ]
    },
    {
      "cell_type": "code",
      "execution_count": null,
      "metadata": {
        "id": "1sKD_-XVYzCO"
      },
      "outputs": [],
      "source": [
        "model.save('leaf_classifier_model.h5')"
      ]
    },
    {
      "cell_type": "code",
      "execution_count": null,
      "metadata": {
        "colab": {
          "base_uri": "https://localhost:8080/"
        },
        "id": "wzpogkOxFjil",
        "outputId": "cefe3411-a6e5-4027-8790-2096d0cfd2bd"
      },
      "outputs": [
        {
          "output_type": "execute_result",
          "data": {
            "text/plain": [
              "[[0, 'Charuka1'],\n",
              " [1, 'Mangifera Indica'],\n",
              " [2, 'Banbusa vulgaris'],\n",
              " [3, 'Ficus Religiosa'],\n",
              " [4, 'Crinam'],\n",
              " [5, 'Jasminium sabac'],\n",
              " [6, 'Plumeria'],\n",
              " [7, 'Dracena'],\n",
              " [8, 'american pie'],\n",
              " [9, 'Singapoor desy4']]"
            ]
          },
          "metadata": {},
          "execution_count": 16
        }
      ],
      "source": [
        "temp_label"
      ]
    },
    {
      "cell_type": "code",
      "execution_count": null,
      "metadata": {
        "colab": {
          "base_uri": "https://localhost:8080/"
        },
        "id": "d4no8HbLYzFd",
        "outputId": "0baeb712-475f-47d1-af7e-3cc2d9418cdb"
      },
      "outputs": [
        {
          "output_type": "stream",
          "name": "stdout",
          "text": [
            "1/1 [==============================] - 0s 249ms/step\n",
            "Predicted class: 0\n"
          ]
        }
      ],
      "source": [
        "import tensorflow as tf\n",
        "from tensorflow.keras.preprocessing.image import load_img, img_to_array\n",
        "import numpy as np\n",
        "\n",
        "# Load the saved model\n",
        "model = tf.keras.models.load_model('leaf_classifier_model.h5')\n",
        "\n",
        "# Load an example image to classify\n",
        "img = load_img('/content/drive/MyDrive/Plant species/Charuka1/charuka (1).jpeg', target_size=(256, 256))\n",
        "img_arr = img_to_array(img)\n",
        "img_arr = np.expand_dims(img_arr, axis=0)\n",
        "img_arr = tf.keras.utils.normalize(img_arr, axis=1)\n",
        "\n",
        "# Use the model to predict the class of the image\n",
        "predictions = model.predict(img_arr)\n",
        "predicted_class = np.argmax(predictions)\n",
        "\n",
        "print('Predicted class:', predicted_class)"
      ]
    },
    {
      "cell_type": "code",
      "execution_count": null,
      "metadata": {
        "colab": {
          "base_uri": "https://localhost:8080/"
        },
        "id": "JbPbgjiGYzJI",
        "outputId": "ae1c9295-ea18-45c7-d5da-5cece7c178eb"
      },
      "outputs": [
        {
          "output_type": "stream",
          "name": "stdout",
          "text": [
            "2/2 [==============================] - 0s 33ms/step - loss: 0.7034 - accuracy: 0.9091\n",
            "Test accuracy: 0.9090909361839294\n"
          ]
        }
      ],
      "source": [
        "# Load the test dataset\n",
        "test_data = [...]  # load your test data here\n",
        "test_labels = [...]  # load your test labels here\n",
        "\n",
        "# Convert the data to numpy arrays and normalize it\n",
        "test_data = tf.keras.utils.normalize(np.array(val_data), axis=1)\n",
        "\n",
        "# Convert the labels to categorical one-hot encoding\n",
        "test_labels = tf.keras.utils.to_categorical(val_labels, num_classes)\n",
        "\n",
        "# Evaluate the model on the test dataset\n",
        "loss, accuracy = model.evaluate(val_data, val_labels)\n",
        "\n",
        "#print('Test loss:', loss)\n",
        "print('Test accuracy:', accuracy)\n"
      ]
    },
    {
      "cell_type": "code",
      "execution_count": null,
      "metadata": {
        "id": "B0vWjACEYzM6",
        "colab": {
          "base_uri": "https://localhost:8080/"
        },
        "outputId": "6513f626-50a5-4501-ec40-9df351956665"
      },
      "outputs": [
        {
          "output_type": "stream",
          "name": "stdout",
          "text": [
            "Model: \"sequential\"\n",
            "_________________________________________________________________\n",
            " Layer (type)                Output Shape              Param #   \n",
            "=================================================================\n",
            " conv2d (Conv2D)             (None, 254, 254, 32)      896       \n",
            "                                                                 \n",
            " max_pooling2d (MaxPooling2D  (None, 127, 127, 32)     0         \n",
            " )                                                               \n",
            "                                                                 \n",
            " dropout (Dropout)           (None, 127, 127, 32)      0         \n",
            "                                                                 \n",
            " conv2d_1 (Conv2D)           (None, 125, 125, 64)      18496     \n",
            "                                                                 \n",
            " max_pooling2d_1 (MaxPooling  (None, 62, 62, 64)       0         \n",
            " 2D)                                                             \n",
            "                                                                 \n",
            " dropout_1 (Dropout)         (None, 62, 62, 64)        0         \n",
            "                                                                 \n",
            " conv2d_2 (Conv2D)           (None, 60, 60, 128)       73856     \n",
            "                                                                 \n",
            " max_pooling2d_2 (MaxPooling  (None, 30, 30, 128)      0         \n",
            " 2D)                                                             \n",
            "                                                                 \n",
            " dropout_2 (Dropout)         (None, 30, 30, 128)       0         \n",
            "                                                                 \n",
            " flatten (Flatten)           (None, 115200)            0         \n",
            "                                                                 \n",
            " dense (Dense)               (None, 256)               29491456  \n",
            "                                                                 \n",
            " dropout_3 (Dropout)         (None, 256)               0         \n",
            "                                                                 \n",
            " dense_1 (Dense)             (None, 10)                2570      \n",
            "                                                                 \n",
            "=================================================================\n",
            "Total params: 29,587,274\n",
            "Trainable params: 29,587,274\n",
            "Non-trainable params: 0\n",
            "_________________________________________________________________\n"
          ]
        }
      ],
      "source": [
        "model.summary()"
      ]
    },
    {
      "cell_type": "code",
      "execution_count": null,
      "metadata": {
        "id": "2Mg3-XYsYzQi",
        "colab": {
          "base_uri": "https://localhost:8080/",
          "height": 166
        },
        "outputId": "601b3924-7825-44f7-862a-a246b464c5ca"
      },
      "outputs": [
        {
          "output_type": "error",
          "ename": "NameError",
          "evalue": "ignored",
          "traceback": [
            "\u001b[0;31m---------------------------------------------------------------------------\u001b[0m",
            "\u001b[0;31mNameError\u001b[0m                                 Traceback (most recent call last)",
            "\u001b[0;32m<ipython-input-1-02bec5652531>\u001b[0m in \u001b[0;36m<cell line: 1>\u001b[0;34m()\u001b[0m\n\u001b[0;32m----> 1\u001b[0;31m \u001b[0mplot_model\u001b[0m\u001b[0;34m(\u001b[0m\u001b[0mmodel\u001b[0m\u001b[0;34m,\u001b[0m \u001b[0mto_file\u001b[0m\u001b[0;34m=\u001b[0m\u001b[0;34m'leaf_classifier_model.h5'\u001b[0m\u001b[0;34m,\u001b[0m \u001b[0mshow_shapes\u001b[0m\u001b[0;34m=\u001b[0m\u001b[0;32mTrue\u001b[0m\u001b[0;34m,\u001b[0m \u001b[0mshow_layer_names\u001b[0m\u001b[0;34m=\u001b[0m\u001b[0;32mTrue\u001b[0m\u001b[0;34m)\u001b[0m\u001b[0;34m\u001b[0m\u001b[0;34m\u001b[0m\u001b[0m\n\u001b[0m",
            "\u001b[0;31mNameError\u001b[0m: name 'plot_model' is not defined"
          ]
        }
      ],
      "source": [
        "plot_model(model, to_file='leaf_classifier_model.h5', show_shapes=True, show_layer_names=True)\n"
      ]
    },
    {
      "cell_type": "code",
      "execution_count": null,
      "metadata": {
        "id": "29zOERQFYzUE"
      },
      "outputs": [],
      "source": []
    },
    {
      "cell_type": "code",
      "execution_count": null,
      "metadata": {
        "id": "CMuhVqJqYzXa"
      },
      "outputs": [],
      "source": []
    },
    {
      "cell_type": "code",
      "execution_count": null,
      "metadata": {
        "id": "hg4JakT1YzbX"
      },
      "outputs": [],
      "source": []
    },
    {
      "cell_type": "code",
      "execution_count": null,
      "metadata": {
        "id": "7vv2iD70Yzfi"
      },
      "outputs": [],
      "source": [
        "\n"
      ]
    },
    {
      "cell_type": "code",
      "execution_count": null,
      "metadata": {
        "id": "jjdByLcuYzi6"
      },
      "outputs": [],
      "source": []
    },
    {
      "cell_type": "code",
      "execution_count": null,
      "metadata": {
        "id": "3g0v4Fk6Yzoq"
      },
      "outputs": [],
      "source": []
    },
    {
      "cell_type": "code",
      "execution_count": null,
      "metadata": {
        "id": "bAnBkNKgYzsM"
      },
      "outputs": [],
      "source": []
    },
    {
      "cell_type": "code",
      "execution_count": null,
      "metadata": {
        "id": "19f0bbBFYzww"
      },
      "outputs": [],
      "source": []
    },
    {
      "cell_type": "code",
      "execution_count": null,
      "metadata": {
        "id": "C6MHMTDXYz0x"
      },
      "outputs": [],
      "source": []
    },
    {
      "cell_type": "code",
      "execution_count": null,
      "metadata": {
        "id": "qRIutiJVYz4Q"
      },
      "outputs": [],
      "source": []
    },
    {
      "cell_type": "code",
      "execution_count": null,
      "metadata": {
        "id": "i-Unhm9HVTMp"
      },
      "outputs": [],
      "source": []
    },
    {
      "cell_type": "code",
      "execution_count": null,
      "metadata": {
        "id": "JWcF8JWVVe4J"
      },
      "outputs": [],
      "source": []
    },
    {
      "cell_type": "code",
      "execution_count": null,
      "metadata": {
        "id": "A9Y6saraVfFJ"
      },
      "outputs": [],
      "source": [
        "\n"
      ]
    },
    {
      "cell_type": "code",
      "execution_count": null,
      "metadata": {
        "id": "Q3PJa8HwVfJA"
      },
      "outputs": [],
      "source": []
    },
    {
      "cell_type": "code",
      "execution_count": null,
      "metadata": {
        "id": "t2CAcuVjVfL1"
      },
      "outputs": [],
      "source": []
    },
    {
      "cell_type": "code",
      "execution_count": null,
      "metadata": {
        "id": "e7oP3bU2VfQB"
      },
      "outputs": [],
      "source": []
    },
    {
      "cell_type": "code",
      "execution_count": null,
      "metadata": {
        "id": "aDGMiBDMVfSp"
      },
      "outputs": [],
      "source": []
    },
    {
      "cell_type": "code",
      "execution_count": null,
      "metadata": {
        "id": "gTSI3aDaVfVb"
      },
      "outputs": [],
      "source": []
    },
    {
      "cell_type": "code",
      "execution_count": null,
      "metadata": {
        "id": "UrmGDqi7VfYU"
      },
      "outputs": [],
      "source": []
    },
    {
      "cell_type": "code",
      "execution_count": null,
      "metadata": {
        "id": "Hh_bmDicOipg"
      },
      "outputs": [],
      "source": [
        "data = []\n",
        "labels = []\n",
        "for i in range(num_classes):\n",
        "    folder_path = '/content/drive/MyDrive/Plant species' + str(i)\n",
        "    for img_path in image_paths:\n",
        "        img = tf.keras.preprocessing.image.load_img(\n",
        "            img_path, target_size=input_shape[:2])\n",
        "        img_arr = tf.keras.preprocessing.image.img_to_array(img)\n",
        "        data.append(img_arr)\n",
        "        labels.append(i)"
      ]
    },
    {
      "cell_type": "code",
      "execution_count": null,
      "metadata": {
        "id": "SX635V2vOish"
      },
      "outputs": [],
      "source": [
        "train_data, val_data, train_labels, val_labels = train_test_split(\n",
        "    data, labels, test_size=0.2, random_state=42)\n"
      ]
    },
    {
      "cell_type": "code",
      "execution_count": null,
      "metadata": {
        "id": "pUNaHnhGOixA"
      },
      "outputs": [],
      "source": []
    },
    {
      "cell_type": "code",
      "execution_count": null,
      "metadata": {
        "id": "3iNwNZzsOi0l"
      },
      "outputs": [],
      "source": []
    },
    {
      "cell_type": "code",
      "execution_count": null,
      "metadata": {
        "id": "aeyZe6X3Oi3e"
      },
      "outputs": [],
      "source": []
    },
    {
      "cell_type": "code",
      "execution_count": null,
      "metadata": {
        "id": "hqQCMYrEOi6c"
      },
      "outputs": [],
      "source": []
    },
    {
      "cell_type": "code",
      "execution_count": null,
      "metadata": {
        "id": "ERaWWLTvOi9c"
      },
      "outputs": [],
      "source": []
    },
    {
      "cell_type": "code",
      "execution_count": null,
      "metadata": {
        "id": "269MkBQLOjAj"
      },
      "outputs": [],
      "source": []
    },
    {
      "cell_type": "code",
      "execution_count": null,
      "metadata": {
        "id": "6W6OGl0TOjDk"
      },
      "outputs": [],
      "source": []
    },
    {
      "cell_type": "code",
      "execution_count": null,
      "metadata": {
        "id": "9HledwB8OjGT"
      },
      "outputs": [],
      "source": []
    },
    {
      "cell_type": "code",
      "execution_count": null,
      "metadata": {
        "id": "HY718hxlOjJZ"
      },
      "outputs": [],
      "source": []
    },
    {
      "cell_type": "code",
      "execution_count": null,
      "metadata": {
        "id": "lyZiWY-rOjMh"
      },
      "outputs": [],
      "source": []
    },
    {
      "cell_type": "code",
      "execution_count": null,
      "metadata": {
        "id": "-p4tFJbMOjPT"
      },
      "outputs": [],
      "source": []
    },
    {
      "cell_type": "code",
      "execution_count": null,
      "metadata": {
        "id": "YhY6NNt6OjSB"
      },
      "outputs": [],
      "source": []
    },
    {
      "cell_type": "code",
      "execution_count": null,
      "metadata": {
        "id": "sTxAX6d7OjVT"
      },
      "outputs": [],
      "source": []
    },
    {
      "cell_type": "code",
      "execution_count": null,
      "metadata": {
        "id": "_Rc5e5P2OjYu"
      },
      "outputs": [],
      "source": []
    },
    {
      "cell_type": "code",
      "execution_count": null,
      "metadata": {
        "id": "_23p0j1SOjbS"
      },
      "outputs": [],
      "source": []
    },
    {
      "cell_type": "code",
      "execution_count": null,
      "metadata": {
        "id": "tORNhtrpOjeB"
      },
      "outputs": [],
      "source": []
    },
    {
      "cell_type": "code",
      "execution_count": null,
      "metadata": {
        "id": "aNJDllPqOjhQ"
      },
      "outputs": [],
      "source": []
    },
    {
      "cell_type": "code",
      "execution_count": null,
      "metadata": {
        "id": "izkek-upOjj7"
      },
      "outputs": [],
      "source": []
    },
    {
      "cell_type": "code",
      "execution_count": null,
      "metadata": {
        "id": "YEhSGerQOjmx"
      },
      "outputs": [],
      "source": []
    },
    {
      "cell_type": "code",
      "execution_count": null,
      "metadata": {
        "id": "tIOkOstYOjpt"
      },
      "outputs": [],
      "source": []
    },
    {
      "cell_type": "code",
      "execution_count": null,
      "metadata": {
        "id": "fQaKeZHFOjse"
      },
      "outputs": [],
      "source": []
    },
    {
      "cell_type": "code",
      "execution_count": null,
      "metadata": {
        "id": "bJyKzfp_Ojvc"
      },
      "outputs": [],
      "source": []
    },
    {
      "cell_type": "code",
      "execution_count": null,
      "metadata": {
        "id": "mSTHwAkqOjyT"
      },
      "outputs": [],
      "source": []
    },
    {
      "cell_type": "code",
      "execution_count": null,
      "metadata": {
        "id": "UC47IqaSOj1W"
      },
      "outputs": [],
      "source": []
    },
    {
      "cell_type": "code",
      "execution_count": null,
      "metadata": {
        "id": "owz5dMvUOj4b"
      },
      "outputs": [],
      "source": []
    },
    {
      "cell_type": "code",
      "execution_count": null,
      "metadata": {
        "id": "3G4nXTlYOj7D"
      },
      "outputs": [],
      "source": []
    },
    {
      "cell_type": "code",
      "execution_count": null,
      "metadata": {
        "id": "9pnDxjhoOj9r"
      },
      "outputs": [],
      "source": []
    },
    {
      "cell_type": "code",
      "execution_count": null,
      "metadata": {
        "id": "ddbW9XAsOkA-"
      },
      "outputs": [],
      "source": []
    },
    {
      "cell_type": "code",
      "execution_count": null,
      "metadata": {
        "id": "VMm1qWfMOkEa"
      },
      "outputs": [],
      "source": []
    }
  ],
  "metadata": {
    "accelerator": "GPU",
    "colab": {
      "provenance": [],
      "gpuType": "T4",
      "include_colab_link": true
    },
    "kernelspec": {
      "display_name": "Python 3",
      "name": "python3"
    },
    "language_info": {
      "name": "python"
    }
  },
  "nbformat": 4,
  "nbformat_minor": 0
}